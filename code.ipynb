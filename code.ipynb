{
 "cells": [
  {
   "cell_type": "markdown",
   "id": "900299dd",
   "metadata": {},
   "source": [
    "# Install OpenCV"
   ]
  },
  {
   "cell_type": "code",
   "execution_count": 51,
   "id": "6fc61a42",
   "metadata": {},
   "outputs": [
    {
     "name": "stdout",
     "output_type": "stream",
     "text": [
      "Requirement already satisfied: opencv-contrib-python in g:\\ai\\cv\\object tracker\\.venv\\lib\\site-packages (4.12.0.88)\n",
      "Requirement already satisfied: numpy<2.3.0,>=2 in g:\\ai\\cv\\object tracker\\.venv\\lib\\site-packages (from opencv-contrib-python) (2.2.6)\n"
     ]
    }
   ],
   "source": [
    "! pip install opencv-contrib-python"
   ]
  },
  {
   "cell_type": "code",
   "execution_count": 52,
   "id": "2605cde9",
   "metadata": {},
   "outputs": [
    {
     "name": "stdout",
     "output_type": "stream",
     "text": [
      "Requirement already satisfied: opencv-contrib-python in g:\\ai\\cv\\object tracker\\.venv\\lib\\site-packages (4.12.0.88)\n",
      "Requirement already satisfied: numpy<2.3.0,>=2 in g:\\ai\\cv\\object tracker\\.venv\\lib\\site-packages (from opencv-contrib-python) (2.2.6)\n"
     ]
    }
   ],
   "source": [
    "! pip install --upgrade opencv-contrib-python"
   ]
  },
  {
   "cell_type": "code",
   "execution_count": 53,
   "id": "37b39cba",
   "metadata": {},
   "outputs": [
    {
     "name": "stdout",
     "output_type": "stream",
     "text": [
      "4.12.0\n"
     ]
    }
   ],
   "source": [
    "print(cv2.__version__)"
   ]
  },
  {
   "cell_type": "markdown",
   "id": "8d1f6a42",
   "metadata": {},
   "source": [
    "# Import Needed Libraries"
   ]
  },
  {
   "cell_type": "code",
   "execution_count": 62,
   "id": "e3725343",
   "metadata": {},
   "outputs": [],
   "source": [
    "import tkinter as tk\n",
    "import ttkbootstrap as ttk\n",
    "from ttkbootstrap.constants import *\n",
    "from tkinter import messagebox\n",
    "from PIL import Image, ImageTk\n",
    "import cv2\n",
    "import sys\n",
    "import os"
   ]
  },
  {
   "cell_type": "markdown",
   "id": "40742da7",
   "metadata": {},
   "source": [
    "# Tracking Functions Part"
   ]
  },
  {
   "cell_type": "code",
   "execution_count": 55,
   "id": "9fd86ba9",
   "metadata": {},
   "outputs": [],
   "source": [
    "def create_tracker(tracker_name):\n",
    "   \n",
    "    tracker_constructors = {\n",
    "        'BOOSTING': cv2.legacy.TrackerBoosting_create,\n",
    "        'MIL': cv2.legacy.TrackerMIL_create,\n",
    "        'KCF': cv2.legacy.TrackerKCF_create,\n",
    "        'TLD': cv2.legacy.TrackerTLD_create,\n",
    "        'MEDIANFLOW': cv2.legacy.TrackerMedianFlow_create,\n",
    "        'MOSSE': cv2.legacy.TrackerMOSSE_create,\n",
    "        \"CSRT\": cv2.legacy.TrackerCSRT_create,\n",
    "    }\n",
    "    constructor = tracker_constructors.get(tracker_name.upper())\n",
    "    return constructor() if constructor else None"
   ]
  },
  {
   "cell_type": "code",
   "execution_count": 56,
   "id": "3a9ca2d1",
   "metadata": {},
   "outputs": [],
   "source": [
    "def run_object_tracking(tracker_name): # Initializes and runs the OpenCV object tracking window.\n",
    "    \n",
    "    tracker = create_tracker(tracker_name)\n",
    "    if tracker is None:\n",
    "        messagebox.showerror(\"Error\", f\"Unknown tracker type '{tracker_name}' selected.\")\n",
    "        return\n",
    "\n",
    "    video_capture = cv2.VideoCapture(0)\n",
    "    if not video_capture.isOpened():\n",
    "        messagebox.showerror(\"Error\", \"Could not open webcam.\")\n",
    "        return\n",
    "\n",
    "    success, initial_frame = video_capture.read()\n",
    "    if not success:\n",
    "        messagebox.showerror(\"Error\", \"Cannot read from webcam.\")\n",
    "        video_capture.release()\n",
    "        return\n",
    "        \n",
    "    # Selects the object to track\n",
    "    roi = cv2.selectROI(\"Select Object to Track\", initial_frame, fromCenter=False, showCrosshair=True)\n",
    "    \n",
    "    # Check a valid region of interest (ROI)\n",
    "    if roi[2] > 0 and roi[3] > 0:\n",
    "        tracker.init(initial_frame, roi)\n",
    "    else:\n",
    "        print(\"No region selected. Exiting tracking.\")\n",
    "        video_capture.release()\n",
    "        cv2.destroyAllWindows()\n",
    "        return\n",
    "\n",
    "    cv2.destroyWindow(\"Select Object to Track\")\n",
    "\n",
    "    while True:\n",
    "        is_reading, frame = video_capture.read()\n",
    "        if not is_reading:\n",
    "            break\n",
    "\n",
    "        timer_start = cv2.getTickCount()\n",
    "        is_tracking, bbox = tracker.update(frame)\n",
    "        fps = cv2.getTickFrequency() / (cv2.getTickCount() - timer_start)\n",
    "\n",
    "        if is_tracking:\n",
    "            p1 = (int(bbox[0]), int(bbox[1]))\n",
    "            p2 = (int(bbox[0] + bbox[2]), int(bbox[1] + bbox[3]))\n",
    "            cv2.rectangle(frame, p1, p2, (0, 255, 0), 2, 1)\n",
    "        else:\n",
    "            cv2.putText(frame, \"Tracking Failure\", (100, 80), cv2.FONT_HERSHEY_SIMPLEX, 0.75, (0, 0, 255), 2)\n",
    "\n",
    "        cv2.putText(frame, f\"{tracker_name} Tracker\", (20, 30), cv2.FONT_HERSHEY_SIMPLEX, 0.75, (50, 170, 50), 2)\n",
    "        cv2.putText(frame, f\"FPS: {int(fps)}\", (20, 60), cv2.FONT_HERSHEY_SIMPLEX, 0.75, (50, 170, 50), 2)\n",
    "        cv2.putText(frame, \"Press ESC to Exit\", (20, 90), cv2.FONT_HERSHEY_SIMPLEX, 0.6, (255, 255, 0), 2)\n",
    "\n",
    "        cv2.imshow(\"Object Tracking\", frame)\n",
    "\n",
    "        key = cv2.waitKey(1) & 0xFF\n",
    "        if key == 27:  # ESC key\n",
    "            break\n",
    "            \n",
    "    video_capture.release()\n",
    "    cv2.destroyAllWindows()"
   ]
  },
  {
   "cell_type": "markdown",
   "id": "0dc9c796",
   "metadata": {},
   "source": [
    "# GUI Part"
   ]
  },
  {
   "cell_type": "code",
   "execution_count": 67,
   "id": "f928b03b",
   "metadata": {},
   "outputs": [],
   "source": [
    "# Constants for consistent styling\n",
    "FONT_TITLE = (\"Helvetica\", 24, \"bold\")\n",
    "FONT_HEADING = (\"Helvetica\", 14, \"bold\")\n",
    "FONT_BODY = (\"Helvetica\", 11)\n",
    "FONT_CREATOR = (\"Helvetica\", 12, \"italic\")\n",
    "\n",
    "class TrackingApp(ttk.Window): \n",
    "    def __init__(self):\n",
    "        \n",
    "        super().__init__(themename=\"cyborg\")  # 'cyborg' theme for a professional dark look\n",
    "        \n",
    "        self.title(\"AI Object Tracker by Mohanad Metrash\")\n",
    "        self.geometry(\"650x700\")\n",
    "\n",
    "        # Container frame to hold all pages\n",
    "        container = ttk.Frame(self)\n",
    "        container.pack(side=\"top\", fill=\"both\", expand=True, padx=10, pady=10)\n",
    "        container.grid_rowconfigure(0, weight=1)\n",
    "        container.grid_columnconfigure(0, weight=1)\n",
    "\n",
    "        self.frames = {}\n",
    "        for F in (WelcomeScreen, SetupScreen):\n",
    "            page_name = F.__name__\n",
    "            frame = F(parent=container, controller=self)\n",
    "            self.frames[page_name] = frame\n",
    "            frame.grid(row=0, column=0, sticky=\"nsew\")\n",
    "\n",
    "        self.show_frame(\"WelcomeScreen\")\n",
    "\n",
    "    def show_frame(self, page_name):\n",
    "        frame = self.frames[page_name]\n",
    "        frame.tkraise()"
   ]
  },
  {
   "cell_type": "code",
   "execution_count": 68,
   "id": "ec5f9d73",
   "metadata": {},
   "outputs": [],
   "source": [
    "class WelcomeScreen(ttk.Frame):\n",
    "    def __init__(self, parent, controller):\n",
    "        super().__init__(parent)\n",
    "        self.controller = controller\n",
    "        \n",
    "        # Title\n",
    "        title_label = ttk.Label(self, text=\"Welcome to the AI Object Tracker!\", font=FONT_TITLE, bootstyle=\"primary\")\n",
    "        title_label.pack(pady=(10, 20))\n",
    "\n",
    "        \n",
    "        photo_path = \"creator_photo.png\"\n",
    "        if os.path.exists(photo_path):\n",
    "            img = Image.open(photo_path).resize((150, 150), Image.Resampling.LANCZOS)\n",
    "            self.creator_photo = ImageTk.PhotoImage(img)\n",
    "            # Add a colored border using a frame\n",
    "            photo_frame = ttk.Frame(self, bootstyle=\"primary\", padding=3)\n",
    "            photo_label = ttk.Label(photo_frame, image=self.creator_photo)\n",
    "            photo_label.pack()\n",
    "            photo_frame.pack(pady=10)\n",
    "        \n",
    "        \n",
    "        name_label = ttk.Label(self, text=\"Created by Mohanad Metrash\", font=FONT_CREATOR, bootstyle=\"secondary\")\n",
    "        name_label.pack(pady=(0, 20))\n",
    "\n",
    "        # INSTRUCTIONS Part\n",
    "        instr_frame = ttk.Frame(self, bootstyle=\"secondary\", padding=20)\n",
    "        instr_frame.pack(pady=10, padx=20, fill=\"x\")\n",
    "\n",
    "        instr_heading = ttk.Label(instr_frame, text=\"How to Use This Application\", font=FONT_HEADING, bootstyle=\"inverse-secondary\")\n",
    "        instr_heading.pack(anchor=\"w\")\n",
    "        \n",
    "        \n",
    "        steps = [\n",
    "            (\"1. Proceed to Setup:\", \"Click the Continue button below.\"),\n",
    "            (\"2. Choose an Algorithm:\", \"Select a tracker. CSRT is accurate, KCF is fast.\"),\n",
    "            (\"3. Launch the Tracker:\", \"Click Launch Tracker to open your webcam.\"),\n",
    "            (\"4. Select an Object:\", \"In the new window, CLICK and DRAG a box around an object.\"),\n",
    "            (\"5. Confirm Selection:\", \"Press the ENTER or SPACE key.\"),\n",
    "            (\"6. Stop Tracking:\", \"Press the ESC key at any time to exit and return here.\")\n",
    "        ]\n",
    "\n",
    "        for title, text in steps:\n",
    "            step_frame = ttk.Frame(instr_frame, bootstyle=\"secondary\")\n",
    "            step_frame.pack(fill=\"x\", pady=4)\n",
    "            ttk.Label(step_frame, text=title, font=FONT_BODY + (\"bold\",), bootstyle=\"inverse-secondary\").pack(side=\"left\", anchor=\"nw\")\n",
    "            ttk.Label(step_frame, text=text, font=FONT_BODY, bootstyle=\"inverse-secondary\", wraplength=450).pack(side=\"left\", anchor=\"nw\", padx=5)\n",
    "\n",
    "        \n",
    "        continue_button = ttk.Button(\n",
    "            self, text=\"Continue to Setup\",\n",
    "            command=lambda: controller.show_frame(\"SetupScreen\"),\n",
    "            bootstyle=\"success-outline\", # A nice green outline button\n",
    "            width=20\n",
    "        )\n",
    "        continue_button.pack(pady=25, ipady=5)"
   ]
  },
  {
   "cell_type": "code",
   "execution_count": 69,
   "id": "4fe6956f",
   "metadata": {},
   "outputs": [],
   "source": [
    "class SetupScreen(ttk.Frame):\n",
    "    def __init__(self, parent, controller):\n",
    "        super().__init__(parent)\n",
    "        self.controller = controller\n",
    "\n",
    "        title_label = ttk.Label(self, text=\"Tracker Configuration\", font=FONT_TITLE, bootstyle=\"primary\")\n",
    "        title_label.pack(pady=40)\n",
    "\n",
    "        info_label = ttk.Label(self, text=\"Please select a tracking algorithm:\", font=FONT_HEADING)\n",
    "        info_label.pack(pady=10)\n",
    "\n",
    "        \n",
    "        self.tracker_var = tk.StringVar()\n",
    "        tracker_options = ['CSRT', 'KCF', 'MOSSE', 'MIL', 'BOOSTING', 'TLD', 'MEDIANFLOW']\n",
    "        \n",
    "        self.tracker_menu = ttk.Combobox(self, textvariable=self.tracker_var, values=tracker_options, state=\"readonly\", font=FONT_HEADING, width=15, bootstyle=\"primary\")\n",
    "        self.tracker_menu.set('CSRT') # A recommended default\n",
    "        self.tracker_menu.pack(pady=20)\n",
    "\n",
    "        \n",
    "        launch_button = ttk.Button(self, text=\"Launch Tracker\", command=self.launch_tracking, bootstyle=\"success\", width=20)\n",
    "        launch_button.pack(pady=20, ipady=10)\n",
    "\n",
    "       \n",
    "        back_button = ttk.Button(self, text=\"< Back to Welcome\", command=lambda: controller.show_frame(\"WelcomeScreen\"), bootstyle=\"secondary-outline\")\n",
    "        back_button.pack(pady=(60, 20))\n",
    "\n",
    "    def launch_tracking(self):\n",
    "        selected_tracker = self.tracker_var.get()\n",
    "        if not selected_tracker:\n",
    "            messagebox.showwarning(\"Warning\", \"Please select a tracker first.\")\n",
    "            return\n",
    "        \n",
    "        self.controller.withdraw()\n",
    "        try:\n",
    "            run_object_tracking(selected_tracker)\n",
    "        except Exception as e:\n",
    "            messagebox.showerror(\"Runtime Error\", f\"An error occurred during tracking: {e}\")\n",
    "        finally:\n",
    "            self.controller.deiconify()"
   ]
  },
  {
   "cell_type": "markdown",
   "id": "6f024658",
   "metadata": {},
   "source": [
    "# Application Entry Point"
   ]
  },
  {
   "cell_type": "code",
   "execution_count": 71,
   "id": "b9030be7",
   "metadata": {},
   "outputs": [],
   "source": [
    "if __name__ == \"__main__\":\n",
    "    app = TrackingApp()\n",
    "    app.mainloop()"
   ]
  }
 ],
 "metadata": {
  "kernelspec": {
   "display_name": ".venv",
   "language": "python",
   "name": "python3"
  },
  "language_info": {
   "codemirror_mode": {
    "name": "ipython",
    "version": 3
   },
   "file_extension": ".py",
   "mimetype": "text/x-python",
   "name": "python",
   "nbconvert_exporter": "python",
   "pygments_lexer": "ipython3",
   "version": "3.11.9"
  }
 },
 "nbformat": 4,
 "nbformat_minor": 5
}
